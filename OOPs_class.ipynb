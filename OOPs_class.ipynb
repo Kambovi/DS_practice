{
 "cells": [
  {
   "cell_type": "code",
   "execution_count": 11,
   "id": "6efa71ef",
   "metadata": {},
   "outputs": [
    {
     "name": "stdout",
     "output_type": "stream",
     "text": [
      "0\n",
      "your new balance is 100\n",
      "100\n",
      "You do not have sufficient funds\n",
      "Your updated balance is 50\n",
      "50\n"
     ]
    }
   ],
   "source": [
    "# Bank Account Class\n",
    "class BankAccount():\n",
    "    def __init__(self, account_holdername, balance, account_number, account_type):\n",
    "        self.account_holdername=account_holdername\n",
    "        self.account_number=account_number\n",
    "        self.balance=balance\n",
    "        self.account_type=account_type\n",
    "        \n",
    "    def deposit(self, amount):\n",
    "        self.balance += amount\n",
    "        print(f\"your new balance is {self.balance}\" )\n",
    "    \n",
    "    def withdrawl(self, amount):\n",
    "        if amount <= self.balance:\n",
    "            self.balance -= amount\n",
    "            print(f\"Your updated balance is {self.balance}\")\n",
    "        else:\n",
    "            print(\"You do not have sufficient funds\")\n",
    "\n",
    "account1 = BankAccount(\"Sam\", 0, 1234567890,\"Saving\")\n",
    "print(account1.balance)\n",
    "account1.deposit(100)\n",
    "print(account1.balance)\n",
    "account1.withdrawl(300)\n",
    "account1.withdrawl(50)\n",
    "print(account1.balance)"
   ]
  },
  {
   "cell_type": "code",
   "execution_count": 35,
   "id": "978c8e1b",
   "metadata": {},
   "outputs": [
    {
     "name": "stdout",
     "output_type": "stream",
     "text": [
      "New task added: python programming\n",
      "New task added: SQL\n",
      " Task Azure is not present\n",
      " Todo list of Bilal\n",
      "python programming\n",
      "SQL\n"
     ]
    }
   ],
   "source": [
    "#Class Todo List\n",
    "\n",
    "class Todo():\n",
    "    def __init__(self,owner):\n",
    "        self.owner = owner\n",
    "        self.tasks =[]\n",
    "        \n",
    "    def add_task(self,task):\n",
    "        self.tasks.append(task)\n",
    "        print(f\"New task added: {task}\")\n",
    "\n",
    "    def task_complete(self, task):\n",
    "        if task in self.tasks:\n",
    "            self.tasks.remove(task)\n",
    "            print(f\"Task {task} is completed\")\n",
    "        else:\n",
    "            print(f\" Task {task} is not present\")\n",
    "            \n",
    "    def show_list(self):\n",
    "        print(f\" Todo list of {self.owner}\")\n",
    "        for task in self.tasks:\n",
    "            print(task)\n",
    "        \n",
    "        \n",
    "todo = Todo(\"Bilal\")\n",
    "todo.add_task(\"python programming\")\n",
    "todo.add_task(\"SQL\")\n",
    "todo.task_complete(\"Azure\")\n",
    "todo.show_list()"
   ]
  },
  {
   "cell_type": "code",
   "execution_count": 24,
   "id": "55300edb",
   "metadata": {},
   "outputs": [
    {
     "name": "stdout",
     "output_type": "stream",
     "text": [
      "Task SQL is completed\n"
     ]
    }
   ],
   "source": [
    "todo.task_complete(\"SQL\")"
   ]
  },
  {
   "cell_type": "code",
   "execution_count": 28,
   "id": "3da6916d",
   "metadata": {},
   "outputs": [
    {
     "name": "stdout",
     "output_type": "stream",
     "text": [
      "f List of task: {self.owner}\n",
      "python programming\n",
      "SQL\n"
     ]
    }
   ],
   "source": [
    "todo.show_list()"
   ]
  },
  {
   "cell_type": "code",
   "execution_count": 31,
   "id": "863b1b90",
   "metadata": {},
   "outputs": [
    {
     "data": {
      "text/plain": [
       "['__class__',\n",
       " '__delattr__',\n",
       " '__dict__',\n",
       " '__dir__',\n",
       " '__doc__',\n",
       " '__eq__',\n",
       " '__format__',\n",
       " '__ge__',\n",
       " '__getattribute__',\n",
       " '__gt__',\n",
       " '__hash__',\n",
       " '__init__',\n",
       " '__init_subclass__',\n",
       " '__le__',\n",
       " '__lt__',\n",
       " '__module__',\n",
       " '__ne__',\n",
       " '__new__',\n",
       " '__reduce__',\n",
       " '__reduce_ex__',\n",
       " '__repr__',\n",
       " '__setattr__',\n",
       " '__sizeof__',\n",
       " '__str__',\n",
       " '__subclasshook__',\n",
       " '__weakref__',\n",
       " 'add_task',\n",
       " 'owner',\n",
       " 'show_list',\n",
       " 'task_complete',\n",
       " 'tasks']"
      ]
     },
     "execution_count": 31,
     "metadata": {},
     "output_type": "execute_result"
    }
   ],
   "source": [
    "dir(todo)"
   ]
  },
  {
   "cell_type": "code",
   "execution_count": 42,
   "id": "ebca306a",
   "metadata": {},
   "outputs": [],
   "source": [
    "#class Mobile Phone\n",
    "\n",
    "class Mobile:\n",
    "    def __init__(self,brand1, model1, processor1, price1):\n",
    "        self.brand = brand1\n",
    "        self.brand = model1\n",
    "        self.brand = processor1\n",
    "        self.brand = price1\n",
    "        self.shell = []\n",
    "\n",
    "    \n",
    "    def make_call(self):\n",
    "        a = input()\n",
    "        print(f\"calling to {a}\")\n",
    "    \n",
    "    #def playgame(self):\n",
    "        "
   ]
  },
  {
   "cell_type": "code",
   "execution_count": 43,
   "id": "8f69ad11",
   "metadata": {},
   "outputs": [],
   "source": [
    "phone = Mobile(\"samsung\", \"M30\", \"Quad\", 15500)\n"
   ]
  },
  {
   "cell_type": "code",
   "execution_count": 44,
   "id": "27b58794",
   "metadata": {},
   "outputs": [
    {
     "data": {
      "text/plain": [
       "<bound method Mobile.make_call of <__main__.Mobile object at 0x000002056A93CCA0>>"
      ]
     },
     "execution_count": 44,
     "metadata": {},
     "output_type": "execute_result"
    }
   ],
   "source": [
    "phone.make_call"
   ]
  },
  {
   "cell_type": "code",
   "execution_count": null,
   "id": "7f4bca62",
   "metadata": {},
   "outputs": [],
   "source": []
  }
 ],
 "metadata": {
  "kernelspec": {
   "display_name": "Python 3 (ipykernel)",
   "language": "python",
   "name": "python3"
  },
  "language_info": {
   "codemirror_mode": {
    "name": "ipython",
    "version": 3
   },
   "file_extension": ".py",
   "mimetype": "text/x-python",
   "name": "python",
   "nbconvert_exporter": "python",
   "pygments_lexer": "ipython3",
   "version": "3.9.0"
  }
 },
 "nbformat": 4,
 "nbformat_minor": 5
}
